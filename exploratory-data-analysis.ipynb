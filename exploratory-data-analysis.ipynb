{
 "cells": [
  {
   "cell_type": "markdown",
   "id": "0e0474a7",
   "metadata": {},
   "source": [
    "# Exploratory Data Analysis"
   ]
  },
  {
   "cell_type": "markdown",
   "id": "884e5de0",
   "metadata": {},
   "source": [
    "The data-set aims to answer the following key questions:\n",
    "\n",
    "- Does various predicting factors which has been chosen initially really affect the Life expectancy? What are the predicting variables actually affecting the life expectancy?\n",
    "- Should a country having a lower life expectancy value(<65) increase its healthcare expenditure in order to improve its average lifespan?\n",
    "- How does Infant and Adult mortality rates affect life expectancy?\n",
    "- Does Life Expectancy has positive or negative correlation with eating habits, lifestyle, exercise, smoking, drinking alcohol etc.\n",
    "- What is the impact of schooling on the lifespan of humans?\n",
    "- Does Life Expectancy have positive or negative relationship with drinking alcohol?\n",
    "- Do densely populated countries tend to have lower life expectancy?\n",
    "- What is the impact of Immunization coverage on life Expectancy?"
   ]
  },
  {
   "cell_type": "code",
   "execution_count": null,
   "id": "541017c7",
   "metadata": {},
   "outputs": [],
   "source": []
  }
 ],
 "metadata": {
  "kernelspec": {
   "display_name": "Python 3",
   "language": "python",
   "name": "python3"
  },
  "language_info": {
   "codemirror_mode": {
    "name": "ipython",
    "version": 3
   },
   "file_extension": ".py",
   "mimetype": "text/x-python",
   "name": "python",
   "nbconvert_exporter": "python",
   "pygments_lexer": "ipython3",
   "version": "3.8.3"
  }
 },
 "nbformat": 4,
 "nbformat_minor": 5
}
